{
  "nbformat": 4,
  "nbformat_minor": 0,
  "metadata": {
    "colab": {
      "name": "multilayerperceptron.ipynb",
      "provenance": [],
      "authorship_tag": "ABX9TyN6eu+psoceSBBffVKJUUcb",
      "include_colab_link": true
    },
    "kernelspec": {
      "name": "python3",
      "display_name": "Python 3"
    }
  },
  "cells": [
    {
      "cell_type": "markdown",
      "metadata": {
        "id": "view-in-github",
        "colab_type": "text"
      },
      "source": [
        "<a href=\"https://colab.research.google.com/github/vikaskumar04121998/practical-for-deep-learning/blob/main/multilayerperceptron.ipynb\" target=\"_parent\"><img src=\"https://colab.research.google.com/assets/colab-badge.svg\" alt=\"Open In Colab\"/></a>"
      ]
    },
    {
      "cell_type": "code",
      "metadata": {
        "id": "empEKUQpBe5_"
      },
      "source": [
        ""
      ],
      "execution_count": null,
      "outputs": []
    },
    {
      "cell_type": "code",
      "metadata": {
        "colab": {
          "base_uri": "https://localhost:8080/"
        },
        "id": "OFLRGvD8SsFf",
        "outputId": "71d12971-93e7-45b2-914c-dc38d9682450"
      },
      "source": [
        "import pandas as pd\r\n",
        "import sklearn\r\n",
        "from sklearn import preprocessing\r\n",
        "from sklearn.model_selection import train_test_split \r\n",
        "from sklearn.preprocessing import StandardScaler  \r\n",
        "from sklearn.neural_network import MLPClassifier \r\n",
        "from sklearn.metrics import classification_report, confusion_matrix\r\n",
        "\r\n",
        "url = \"https://archive.ics.uci.edu/ml/machine-learning-databases/iris/iris.data\"\r\n",
        "\r\n",
        "names = ['sepal-length', 'sepal-width', 'petal-length', 'petal-width', 'Class']\r\n",
        "irisdata = pd.read_csv(url, names=names)\r\n",
        "X = irisdata.iloc[:, 0:4]\r\n",
        "y = irisdata.select_dtypes(include=[object])\r\n",
        "\r\n",
        "X.head()\r\n",
        "y.head()\r\n",
        "y.Class.unique()\r\n",
        "le = preprocessing.LabelEncoder()\r\n",
        "y = y.apply(le.fit_transform)\r\n",
        "y.head()\r\n",
        "X_train, X_test, y_train, y_test = train_test_split(X, y, test_size = 0.25)\r\n",
        "scaler = StandardScaler()  \r\n",
        "scaler.fit(X_train)\r\n",
        "X_train = scaler.transform(X_train)  \r\n",
        "X_test = scaler.transform(X_test)\r\n",
        "mlp = MLPClassifier(hidden_layer_sizes=(10, 10, 10), max_iter=1000)  \r\n",
        "mlp.fit(X_train, y_train.values.ravel())\r\n",
        "predictions = mlp.predict(X_test)\r\n",
        "print(predictions)\r\n",
        "print(confusion_matrix(y_test,predictions))  \r\n",
        "print(classification_report(y_test,predictions))"
      ],
      "execution_count": null,
      "outputs": [
        {
          "output_type": "stream",
          "text": [
            "[2 0 0 2 2 0 0 0 0 2 1 2 1 2 1 1 0 1 0 2 2 2 0 0 0 0 1 0 1 0 0 2 1 1 0 1 2\n",
            " 0]\n",
            "[[17  0  0]\n",
            " [ 0  6  1]\n",
            " [ 0  4 10]]\n",
            "              precision    recall  f1-score   support\n",
            "\n",
            "           0       1.00      1.00      1.00        17\n",
            "           1       0.60      0.86      0.71         7\n",
            "           2       0.91      0.71      0.80        14\n",
            "\n",
            "    accuracy                           0.87        38\n",
            "   macro avg       0.84      0.86      0.84        38\n",
            "weighted avg       0.89      0.87      0.87        38\n",
            "\n"
          ],
          "name": "stdout"
        }
      ]
    }
  ]
}