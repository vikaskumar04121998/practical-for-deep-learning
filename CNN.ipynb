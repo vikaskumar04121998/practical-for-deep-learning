{
  "nbformat": 4,
  "nbformat_minor": 0,
  "metadata": {
    "colab": {
      "name": "CNN.ipynb",
      "provenance": [],
      "collapsed_sections": [],
      "authorship_tag": "ABX9TyM7s/1ukhHdNqNIaWouxK5k",
      "include_colab_link": true
    },
    "kernelspec": {
      "name": "python3",
      "display_name": "Python 3"
    }
  },
  "cells": [
    {
      "cell_type": "markdown",
      "metadata": {
        "id": "view-in-github",
        "colab_type": "text"
      },
      "source": [
        "<a href=\"https://colab.research.google.com/github/vikaskumar04121998/practical-for-deep-learning/blob/main/CNN.ipynb\" target=\"_parent\"><img src=\"https://colab.research.google.com/assets/colab-badge.svg\" alt=\"Open In Colab\"/></a>"
      ]
    },
    {
      "cell_type": "code",
      "metadata": {
        "id": "YKo5z_CrMtkq"
      },
      "source": [
        ""
      ],
      "execution_count": null,
      "outputs": []
    },
    {
      "cell_type": "code",
      "metadata": {
        "id": "52c4LjeJBM_L"
      },
      "source": [
        "from keras.layers import Dense, Activation, Dropout, Flatten, Conv2D,AveragePooling2D\n",
        "from keras.layers.normalization import BatchNormalization\n",
        "from keras.models import Sequential\n",
        "from keras.datasets import cifar10\n",
        "import numpy as np\n",
        "\n",
        "(train_images, train_labels), (test_images, test_labels) = cifar10.load_data()"
      ],
      "execution_count": null,
      "outputs": []
    },
    {
      "cell_type": "code",
      "metadata": {
        "colab": {
          "base_uri": "https://localhost:8080/"
        },
        "id": "6chfbZN4-d7W",
        "outputId": "188be9bb-b206-494c-b77e-a1ab29b7ff92"
      },
      "source": [
        "print('Training data shape : ', train_images.shape, train_labels.shape)\n",
        "\n",
        "print('Testing data shape : ', test_images.shape, test_labels.shape)\n"
      ],
      "execution_count": null,
      "outputs": [
        {
          "output_type": "stream",
          "text": [
            "Training data shape :  (50000, 32, 32, 3) (50000, 1)\n",
            "Testing data shape :  (10000, 32, 32, 3) (10000, 1)\n"
          ],
          "name": "stdout"
        }
      ]
    },
    {
      "cell_type": "code",
      "metadata": {
        "colab": {
          "base_uri": "https://localhost:8080/"
        },
        "id": "VOLo6bu-BXgS",
        "outputId": "63b66a14-601a-433b-b789-0d59e0535ff7"
      },
      "source": [
        "classes = np.unique(train_labels)\n",
        "nClasses = len(classes)\n",
        "print('Total number of outputs classes: ', nClasses)\n",
        "print('Output classes : ', classes)"
      ],
      "execution_count": null,
      "outputs": [
        {
          "output_type": "stream",
          "text": [
            "Total number of outputs classes:  10\n",
            "Output classes :  [0 1 2 3 4 5 6 7 8 9]\n"
          ],
          "name": "stdout"
        }
      ]
    },
    {
      "cell_type": "code",
      "metadata": {
        "id": "F61qSk-917pd",
        "colab": {
          "base_uri": "https://localhost:8080/"
        },
        "outputId": "579327a1-7ce8-47c5-cdb7-03b8586da002"
      },
      "source": [
        "model=Sequential()\n",
        "model.add(Conv2D(filters=1, input_shape=(64,64,1), kernel_size=(5,5), strides=2, padding='same'))\n",
        "model.add(Conv2D(6,(5,5),activation='relu'))\n",
        "model.add(AveragePooling2D(pool_size=(2, 2)))\n",
        "\n",
        "model.add(Conv2D(16,(5,5),activation='relu'))\n",
        "model.add(AveragePooling2D(pool_size=(2, 2)))\n",
        "\n",
        "model.add(Flatten())\n",
        "model.add(Dense(120, input_shape=(64,64,1,)))\n",
        "\n",
        "model.add(Flatten())\n",
        "model.add(Dense(10, input_shape=(64,64,1,)))\n",
        "\n",
        "batch_size = 256\n",
        "epochs = 50\n",
        "model.compile(optimizer='rmsprop', loss='categorical_crossentropy', metrics=['accuracy'])\n",
        "\n",
        "model.summary()"
      ],
      "execution_count": null,
      "outputs": [
        {
          "output_type": "stream",
          "text": [
            "Model: \"sequential_32\"\n",
            "_________________________________________________________________\n",
            "Layer (type)                 Output Shape              Param #   \n",
            "=================================================================\n",
            "conv2d_87 (Conv2D)           (None, 32, 32, 1)         26        \n",
            "_________________________________________________________________\n",
            "conv2d_88 (Conv2D)           (None, 28, 28, 6)         156       \n",
            "_________________________________________________________________\n",
            "average_pooling2d_22 (Averag (None, 14, 14, 6)         0         \n",
            "_________________________________________________________________\n",
            "conv2d_89 (Conv2D)           (None, 10, 10, 16)        2416      \n",
            "_________________________________________________________________\n",
            "average_pooling2d_23 (Averag (None, 5, 5, 16)          0         \n",
            "_________________________________________________________________\n",
            "flatten_10 (Flatten)         (None, 400)               0         \n",
            "_________________________________________________________________\n",
            "dense_10 (Dense)             (None, 120)               48120     \n",
            "_________________________________________________________________\n",
            "flatten_11 (Flatten)         (None, 120)               0         \n",
            "_________________________________________________________________\n",
            "dense_11 (Dense)             (None, 10)                1210      \n",
            "=================================================================\n",
            "Total params: 51,928\n",
            "Trainable params: 51,928\n",
            "Non-trainable params: 0\n",
            "_________________________________________________________________\n"
          ],
          "name": "stdout"
        }
      ]
    }
  ]
}