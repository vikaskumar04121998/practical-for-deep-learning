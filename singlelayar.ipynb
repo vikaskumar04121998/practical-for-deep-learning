{
  "nbformat": 4,
  "nbformat_minor": 0,
  "metadata": {
    "colab": {
      "name": "singlelayar.ipynb",
      "provenance": [],
      "collapsed_sections": [],
      "authorship_tag": "ABX9TyNzi14qYOaTyCqrJU7xZh6Q",
      "include_colab_link": true
    },
    "kernelspec": {
      "name": "python3",
      "display_name": "Python 3"
    }
  },
  "cells": [
    {
      "cell_type": "markdown",
      "metadata": {
        "id": "view-in-github",
        "colab_type": "text"
      },
      "source": [
        "<a href=\"https://colab.research.google.com/github/vikaskumar04121998/practical-for-deep-learning/blob/main/singlelayar.ipynb\" target=\"_parent\"><img src=\"https://colab.research.google.com/assets/colab-badge.svg\" alt=\"Open In Colab\"/></a>"
      ]
    },
    {
      "cell_type": "code",
      "metadata": {
        "id": "WYlFJapSBc8m"
      },
      "source": [
        ""
      ],
      "execution_count": null,
      "outputs": []
    },
    {
      "cell_type": "code",
      "metadata": {
        "colab": {
          "base_uri": "https://localhost:8080/"
        },
        "id": "Ga1_hAxjrapM",
        "outputId": "98710a67-0a79-4641-bcb2-c66200ddc42b"
      },
      "source": [
        "import numpy as np\r\n",
        "\r\n",
        "class Perceptron(object):\r\n",
        "\r\n",
        "    def __init__(self, input_size, lr=1, epochs=100):\r\n",
        "        self.W = np.zeros(input_size+1)\r\n",
        "        # add one for bias\r\n",
        "        self.epochs = epochs\r\n",
        "        self.lr = lr\r\n",
        "    \r\n",
        "    def activation_fn(self, x):\r\n",
        "        #return (x >= 0).astype(np.float32)\r\n",
        "        return 1 if x >= 0 else 0\r\n",
        " \r\n",
        "    def predict(self, x):\r\n",
        "        z = self.W.T.dot(x)\r\n",
        "        a = self.activation_fn(z)\r\n",
        "        return a\r\n",
        " \r\n",
        "    def fit(self, X, d):\r\n",
        "        for _ in range(self.epochs):\r\n",
        "            for i in range(d.shape[0]):\r\n",
        "                x = np.insert(X[i], 0, 1)\r\n",
        "                y = self.predict(x)\r\n",
        "                e = d[i] - y\r\n",
        "                self.W = self.W + self.lr * e * x\r\n",
        "if __name__ == '__main__':\r\n",
        "    X = np.array([[1,2,3],[4,5,6],[7,8,9]])\r\n",
        "    d = np.array([0,1,1])\r\n",
        " \r\n",
        "    perceptron = Perceptron(input_size=3)\r\n",
        "    perceptron.fit(X, d)\r\n",
        "    print(perceptron.W)"
      ],
      "execution_count": null,
      "outputs": [
        {
          "output_type": "stream",
          "text": [
            "[-4.  5.  1. -3.]\n"
          ],
          "name": "stdout"
        }
      ]
    }
  ]
}